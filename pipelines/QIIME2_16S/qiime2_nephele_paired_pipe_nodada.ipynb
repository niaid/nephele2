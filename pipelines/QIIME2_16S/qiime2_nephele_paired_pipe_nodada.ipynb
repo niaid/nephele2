{
 "cells": [
  {
   "cell_type": "markdown",
   "metadata": {},
   "source": [
    "#### This notebook demonstrates how to run QIIME2 on Biowulf for development of pipeline for Nephele\n",
    "\n",
    "##### (Optional) Update to the latest qiime 2\n",
    "* wget https://data.qiime2.org/distro/core/qiime2-2020.11-py36-linux-conda.yml\n",
    "* conda env create -n qiime2-2020.11 --file qiime2-2020.11-py36-linux-conda.yml\n",
    "\n",
    "##### Step 1: in terminal window 1\n",
    "```\n",
    "ssh -X quinonesm@biowulf.nih.gov\n",
    "source /data/$USER/conda/etc/profile.d/conda.sh\n",
    "conda activate base\n",
    "conda activate qiime2-2020.11\n",
    "jupyter serverextension enable --py qiime2 --sys-prefix\n",
    "cd /data/quinonesm/\n",
    "```\n",
    "\n",
    "##### follow https://hpc.nih.gov/apps/jupyter.html \n",
    "```\n",
    "module load tmux  \n",
    "tmux  \n",
    "sinteractive --gres=lscratch:5 --mem=20g --tunnel\n",
    "```\n",
    "\n",
    "##### Step 2: in terminal window 2:  open the tunnel per instructions (for example)\n",
    "```\n",
    "ssh  -L 38772:localhost:38772 quinonesm@biowulf.nih.gov\n",
    "```\n",
    "\n",
    "##### Step 3: back in the terminal window 1\n",
    "```\n",
    "module load jupyter && jupyter lab --ip localhost --port $PORT1 --no-browser\n",
    "```\n",
    "\n",
    "\n",
    "#### Info for pipeline users: \n",
    "##### diagrams: https://docs.qiime2.org/2020.11/tutorials/overview/#let-s-get-oriented-flowcharts  \n",
    "in particular https://docs.qiime2.org/2020.11/tutorials/overview/#derep-denoise\n",
    "##### basic tutorial: https://docs.qiime2.org/2020.11/tutorials/moving-pictures/\n",
    "\n",
    "##### To launch this notebook locally (in Mac), first activate the environment, then pass it to jupyter\n",
    "```\n",
    "source /opt/miniconda3/bin/activate* \n",
    "conda activate qiime2-2020.11\n",
    "jupyter serverextension enable --py qiime2 --sys-prefix\n",
    "jupyter notebook\n",
    "```\n",
    "_______"
   ]
  },
  {
   "cell_type": "markdown",
   "metadata": {},
   "source": [
    "#### The pipeline below will use the same dataset available in the Nephele User Guide <https://nephele.niaid.nih.gov/user_guide/>"
   ]
  },
  {
   "cell_type": "code",
   "execution_count": null,
   "metadata": {},
   "outputs": [],
   "source": [
    "cd /data/quinonesm/Nephele/\n",
    "qiime info"
   ]
  },
  {
   "cell_type": "markdown",
   "metadata": {},
   "source": [
    "### Part 1a: Import of demultiplexed PairedEnd reads using indicated filepaths"
   ]
  },
  {
   "cell_type": "markdown",
   "metadata": {},
   "source": [
    "***The validation of the mapping file will be different for this pipeline because it needs the sample-id and column headers as forward-absolute-filepath, reverse-absolute-filepath.  For single end, it only needs sample-id and absolute-filepath***\n",
    "\n",
    "***There will be 3 options for import (paired, single and previously joined)***"
   ]
  },
  {
   "cell_type": "code",
   "execution_count": null,
   "metadata": {},
   "outputs": [],
   "source": [
    "# The manifest file (mapping file) must have the absolute path as below.  For the single end, the column header should say \"absolute-filepath\" instead of \"forward-absolute-filepath\".\n",
    "#sample-id\tforward-absolute-filepath\treverse-absolute-filepath\tAntibiotic\tAnimal\tDay\tTissue\n",
    "#A22831\t$PWD/N2_16S_example_data/22831_S41_R1_subsample.fastq.gz\t$PWD/N2_16S_example_data/22831_S41_R2_subsample.fastq.gz\tControl\tRhDCBC\t347\tSwabJejunum\n",
    "#A22833\t$PWD/N2_16S_example_data/22833_S45_R1_subsample.fastq.gz\t$PWD/N2_16S_example_data/22833_S45_R2_subsample.fastq.gz\tControl\tRhDCBC\t347\tSwabRectum\n",
    "#A22349\t$PWD/N2_16S_example_data/22349_S26_R1_subsample.fastq.gz\t$PWD/N2_16S_example_data/22349_S26_R2_subsample.fastq.gz\tControl\tRhDCVf\t274\tSwabCecum\n",
    "#A22192\t$PWD/N2_16S_example_data/22192_S22_R1_subsample.fastq.gz\t$PWD/N2_16S_example_data/22192_S22_R2_subsample.fastq.gz\tVancomycin\tRhCL4c\t239\tSwabRectum\n",
    "#A22187\t$PWD/N2_16S_example_data/22187_S19_R1_subsample.fastq.gz\t$PWD/N2_16S_example_data/22187_S19_R2_subsample.fastq.gz\tVancomycin\tRhCL4c\t239\tSwabIleum\n",
    "#A22061\t$PWD/N2_16S_example_data/22061_S5_R1_subsample.fastq.gz\t$PWD/N2_16S_example_data/22061_S5_R2_subsample.fastq.gz\tVancomycin\tRhDCAV\t178\tSwabTransverseColon\n",
    "#A22057\t$PWD/N2_16S_example_data/22057_S2_R1_subsample.fastq.gz\t$PWD/N2_16S_example_data/22057_S2_R2_subsample.fastq.gz\tVancomycin\tRhDCAV\t178\tSwabJejunum\n",
    "#A22145\t$PWD/N2_16S_example_data/22145_S14_R1_subsample.fastq.gz\t$PWD/N2_16S_example_data/22145_S14_R2_subsample.fastq.gz\tControl\tRhDCKj\t239\tSwabIleum\n",
    "#A22350\t$PWD/N2_16S_example_data/22350_S27_R1_subsample.fastq.gz\t$PWD/N2_16S_example_data/22350_S27_R2_subsample.fastq.gz\tControl\tRhDCVf\t274\tSwabTransverseColon\n",
    "#7pRecSw478.1\t$PWD/N2_16S_example_data/23572_S307_R1_subsample.fastq.gz\t$PWD/N2_16S_example_data/23572_S307_R2_subsample.fastq.gz\tVancomycin\tRhCL7p\t478\tSwabRectum"
   ]
  },
  {
   "cell_type": "markdown",
   "metadata": {},
   "source": [
    "##### PairedEnd import"
   ]
  },
  {
   "cell_type": "code",
   "execution_count": null,
   "metadata": {},
   "outputs": [],
   "source": [
    "# import paired end data - sample data from Nephele User Guide.  The mapping file how has a different format of column headers.\n",
    "qiime tools import \\\n",
    "  --type 'SampleData[PairedEndSequencesWithQuality]' \\\n",
    "  --input-path N2_16S_mapping_file.txt \\\n",
    "  --output-path paired-end-demux.qza \\\n",
    "  --input-format PairedEndFastqManifestPhred33V2"
   ]
  },
  {
   "cell_type": "code",
   "execution_count": null,
   "metadata": {},
   "outputs": [],
   "source": [
    "# view summary of demultiplexed imported paired end data\n",
    "qiime demux summarize \\\n",
    "  --i-data paired-end-demux.qza \\\n",
    "  --o-visualization paired-end-demux.qzv"
   ]
  },
  {
   "cell_type": "code",
   "execution_count": null,
   "metadata": {
    "scrolled": true
   },
   "outputs": [],
   "source": [
    "# join pairs\n",
    "qiime vsearch join-pairs \\\n",
    "  --i-demultiplexed-seqs paired-end-demux.qza \\\n",
    "  --o-joined-sequences paired-end-joined.qza"
   ]
  },
  {
   "cell_type": "code",
   "execution_count": null,
   "metadata": {},
   "outputs": [],
   "source": [
    "# view summary of joined pairs\n",
    "qiime demux summarize \\\n",
    "  --i-data paired-end-joined.qza \\\n",
    "  --o-visualization paired-end-joined.qzv"
   ]
  },
  {
   "cell_type": "code",
   "execution_count": null,
   "metadata": {},
   "outputs": [],
   "source": [
    "qiime quality-filter q-score \\\n",
    "  --i-demux  paired-end-joined.qza \\\n",
    "  --p-min-quality 20 \\\n",
    "  --o-filtered-sequences paired-end-joined-filtered.qza \\\n",
    "  --o-filter-stats paired-end-joined-filter-stats.qza"
   ]
  },
  {
   "cell_type": "code",
   "execution_count": null,
   "metadata": {},
   "outputs": [],
   "source": [
    "# view summary of joined pairs and filtered pairs\n",
    "qiime demux summarize \\\n",
    "  --i-data paired-end-joined-filtered.qza \\\n",
    "  --o-visualization paired-end-joined-filtered.qzv"
   ]
  },
  {
   "cell_type": "code",
   "execution_count": null,
   "metadata": {},
   "outputs": [],
   "source": [
    "# create summary table for paired end\n",
    "qiime metadata tabulate \\\n",
    "  --m-input-file paired-end-joined-filter-stats.qza \\\n",
    "  --o-visualization paired-end-joined-filter-stats.qzv"
   ]
  },
  {
   "cell_type": "code",
   "execution_count": null,
   "metadata": {},
   "outputs": [],
   "source": [
    "# dereplicate sequences\n",
    "qiime vsearch dereplicate-sequences \\\n",
    "  --i-sequences paired-end-joined-filtered.qza \\\n",
    "  --o-dereplicated-table table.qza \\\n",
    "  --o-dereplicated-sequences rep-seqs.qza"
   ]
  },
  {
   "cell_type": "markdown",
   "metadata": {},
   "source": [
    "### Part 1b: Import of demultiplexed SingleEnd reads using indicated filepaths"
   ]
  },
  {
   "cell_type": "markdown",
   "metadata": {},
   "source": [
    "##### SingleEnd import"
   ]
  },
  {
   "cell_type": "code",
   "execution_count": null,
   "metadata": {},
   "outputs": [],
   "source": [
    "# import - here is the import of Single-end but this should be done for the Paired-End as well\n",
    "qiime tools import \\\n",
    "  --type 'SampleData[SequencesWithQuality]' \\\n",
    "  --input-path N2_16S_mapping_file_singleend.txt \\\n",
    "  --output-path single-end-demux.qza \\\n",
    "  --input-format SingleEndFastqManifestPhred33V2"
   ]
  },
  {
   "cell_type": "code",
   "execution_count": null,
   "metadata": {},
   "outputs": [],
   "source": [
    "# view summary of demultiplexed\n",
    "qiime demux summarize \\\n",
    "  --i-data single-end-demux.qza \\\n",
    "  --o-visualization single-end-demux.qzv"
   ]
  },
  {
   "cell_type": "code",
   "execution_count": null,
   "metadata": {},
   "outputs": [],
   "source": [
    "# filter\n",
    "qiime quality-filter q-score \\\n",
    "  --i-demux  single-end-demux.qza \\\n",
    "  --p-min-quality 20 \\\n",
    "  --o-filtered-sequences single-end-demux-filtered.qza \\\n",
    "  --o-filter-stats single-end-demux-filter-stats.qza"
   ]
  },
  {
   "cell_type": "code",
   "execution_count": null,
   "metadata": {
    "scrolled": true
   },
   "outputs": [],
   "source": [
    "# dereplicate sequences\n",
    "qiime vsearch dereplicate-sequences \\\n",
    "  --i-sequences single-end-demux-filtered.qza \\\n",
    "  --o-dereplicated-table table.qza \\\n",
    "  --o-dereplicated-sequences rep-seqs.qza"
   ]
  },
  {
   "cell_type": "markdown",
   "metadata": {},
   "source": [
    "### Part 1c: Import of demultiplexed prejoined reads using indicated filepaths"
   ]
  },
  {
   "cell_type": "code",
   "execution_count": null,
   "metadata": {},
   "outputs": [],
   "source": [
    "# Note: For pre-joined reads (as in the output of the QC pipe), we will need to add another option\n",
    "qiime tools import \\\n",
    "  --input-path N2_16S_mapping_file_joined.txt \\\n",
    "  --output-path fj-joined-demux.qza \\\n",
    "  --type SampleData[JoinedSequencesWithQuality] \\\n",
    "  --input-format SingleEndFastqManifestPhred33V2"
   ]
  },
  {
   "cell_type": "code",
   "execution_count": null,
   "metadata": {},
   "outputs": [],
   "source": [
    "# view summary of demultiplexed\n",
    "qiime demux summarize \\\n",
    "  --i-data fj-joined-demux.qza \\\n",
    "  --o-visualization fj-joined-demux.qzv"
   ]
  },
  {
   "cell_type": "code",
   "execution_count": null,
   "metadata": {},
   "outputs": [],
   "source": [
    "# filter\n",
    "qiime quality-filter q-score \\\n",
    "  --i-demux  fj-joined-demux.qza \\\n",
    "  --p-min-quality 20 \\\n",
    "  --o-filtered-sequences joined-demux-filtered.qza \\\n",
    "  --o-filter-stats joined-demux-filter-stats.qza"
   ]
  },
  {
   "cell_type": "code",
   "execution_count": null,
   "metadata": {
    "scrolled": true
   },
   "outputs": [],
   "source": [
    "# dereplicate sequences\n",
    "qiime vsearch dereplicate-sequences \\\n",
    "  --i-sequences joined-demux-filtered.qza \\\n",
    "  --o-dereplicated-table table.qza \\\n",
    "  --o-dereplicated-sequences rep-seqs.qza"
   ]
  },
  {
   "cell_type": "markdown",
   "metadata": {},
   "source": [
    "### Part 2: Clustering\n",
    "***This can be done for both SingleEnd or PairedEnd.  We will give the denovo, closed and open reference options but give the closed as default because it is the lowest compute***"
   ]
  },
  {
   "cell_type": "markdown",
   "metadata": {},
   "source": [
    "##### Part 2a: Denovo - Let's do 0.97 default for --p-perc-identity"
   ]
  },
  {
   "cell_type": "code",
   "execution_count": null,
   "metadata": {},
   "outputs": [],
   "source": [
    "qiime vsearch cluster-features-de-novo \\\n",
    "  --i-table table.qza \\\n",
    "  --i-sequences rep-seqs.qza \\\n",
    "  --p-perc-identity 0.97 \\\n",
    "  --o-clustered-table table-dn-97.qza \\\n",
    "  --o-clustered-sequences rep-seqs-dn-97.qza"
   ]
  },
  {
   "cell_type": "code",
   "execution_count": null,
   "metadata": {},
   "outputs": [],
   "source": [
    "# create stats and summary of rep-seqs data from denovo clustering\n",
    "qiime feature-table tabulate-seqs \\\n",
    "--i-data rep-seqs-dn-97.qza \\\n",
    "--o-visualization rep-seqs-dn-97.qzv"
   ]
  },
  {
   "cell_type": "markdown",
   "metadata": {},
   "source": [
    "##### Import OTU reference sets for clustering"
   ]
  },
  {
   "cell_type": "code",
   "execution_count": null,
   "metadata": {},
   "outputs": [],
   "source": [
    "# import otu tables from greengenes\n",
    "qiime tools import \\\n",
    "  --input-path /Users/quinonesm/OneDrive_National_Institutes_of_Health/Nephele/qiime2_MiSeq_paired/gg_13_8_otus/rep_set/99_otus.fasta \\\n",
    "  --output-path 99_otus.qza \\\n",
    "  --type 'FeatureData[Sequence]'\n",
    "\n",
    "# import otu tables\n",
    "qiime tools import \\\n",
    "  --input-path /Users/quinonesm/OneDrive_National_Institutes_of_Health/Nephele/qiime2_MiSeq_paired/gg_13_8_otus/rep_set/97_otus.fasta \\\n",
    "  --output-path 97_otus.qza \\\n",
    "  --type 'FeatureData[Sequence]'\n",
    "\n",
    "# import otu tables\n",
    "qiime tools import \\\n",
    "  --input-path /Users/quinonesm/OneDrive_National_Institutes_of_Health/Nephele/qiime2_MiSeq_paired/gg_13_8_otus/rep_set/85_otus.fasta \\\n",
    "  --output-path 85_otus.qza \\\n",
    "  --type 'FeatureData[Sequence]'"
   ]
  },
  {
   "cell_type": "markdown",
   "metadata": {},
   "source": [
    "##### Part 2b: Open Reference"
   ]
  },
  {
   "cell_type": "code",
   "execution_count": null,
   "metadata": {},
   "outputs": [],
   "source": [
    "# use 85, 97, or 99 OTU\n",
    "qiime vsearch cluster-features-open-reference \\\n",
    "  --i-table table.qza \\\n",
    "  --i-sequences rep-seqs.qza \\\n",
    "  --i-reference-sequences 97_otus.qza \\\n",
    "  --p-perc-identity 0.97 \\\n",
    "  --o-clustered-table table-or-97.qza \\\n",
    "  --o-clustered-sequences rep-seqs-or-97.qza \\\n",
    "  --o-new-reference-sequences new-ref-seqs-or-97.qza"
   ]
  },
  {
   "cell_type": "code",
   "execution_count": null,
   "metadata": {},
   "outputs": [],
   "source": [
    "# create stats and summary of rep-seqs data from open-reference clustering\n",
    "qiime feature-table tabulate-seqs \\\n",
    "--i-data rep-seqs-or-97.qza \\\n",
    "--o-visualization rep-seqs-or-97.qzv"
   ]
  },
  {
   "cell_type": "code",
   "execution_count": null,
   "metadata": {},
   "outputs": [],
   "source": [
    "# rename files\n",
    "mv rep-seqs-or-97.qza rep-seqs.qza\n",
    "mv table-or-97.qza table.qza"
   ]
  },
  {
   "cell_type": "markdown",
   "metadata": {},
   "source": [
    "##### Part 2c: Closed reference"
   ]
  },
  {
   "cell_type": "code",
   "execution_count": null,
   "metadata": {},
   "outputs": [],
   "source": [
    "qiime vsearch cluster-features-closed-reference \\\n",
    "  --i-table table.qza \\\n",
    "  --i-sequences rep-seqs.qza \\\n",
    "  --i-reference-sequences 97_otus.qza \\\n",
    "  --p-perc-identity 0.97 \\\n",
    "  --o-clustered-table table-cr-97.qza \\\n",
    "  --o-clustered-sequences rep-seqs-cr-97.qza \\\n",
    "  --o-unmatched-sequences unmatched-cr-97.qza"
   ]
  },
  {
   "cell_type": "code",
   "execution_count": null,
   "metadata": {},
   "outputs": [],
   "source": [
    "# create stats and summary of rep-seqs data from closed-reference clustering\n",
    "qiime feature-table tabulate-seqs \\\n",
    "--i-data rep-seqs-cr-97.qza \\\n",
    "--o-visualization rep-seqs-cr-97.qzv"
   ]
  },
  {
   "cell_type": "code",
   "execution_count": null,
   "metadata": {},
   "outputs": [],
   "source": [
    "# rename files\n",
    "mv rep-seqs-cr-97.qza rep-seqs.qza\n",
    "mv table-cr-97.qza table.qza"
   ]
  },
  {
   "cell_type": "code",
   "execution_count": null,
   "metadata": {},
   "outputs": [],
   "source": [
    "# summarized denoised sequence variants\n"
   ]
  },
  {
   "cell_type": "markdown",
   "metadata": {},
   "source": [
    "### Part 3: Denoising with Deblur\n",
    "***Perform sequence quality control for Illumina data using the Deblur\n",
    "  workflow with a 16S reference as a positive filter. Only forward reads are\n",
    "  supported at this time. The specific reference used is the 88% OTUs from\n",
    "  Greengenes 13_8. This mode of operation should only be used when data were\n",
    "  generated from a 16S amplicon protocol on an Illumina platform. The\n",
    "  reference is only used to assess whether each sequence is likely to be 16S\n",
    "  by a local alignment using SortMeRNA with a permissive e-value; the\n",
    "  reference is not used to characterize the sequences.Reference: docs.qiiime2.org)***"
   ]
  },
  {
   "cell_type": "code",
   "execution_count": null,
   "metadata": {},
   "outputs": [],
   "source": [
    "qiime deblur denoise-16S \\\n",
    "  --i-demultiplexed-seqs single-end-demux-filtered.qza \\\n",
    "  --p-trim-length 200 \\\n",
    "  --o-representative-sequences single-end-rep-seqs-deblur.qza \\\n",
    "  --o-table single-end-table-deblur.qza \\\n",
    "  --p-sample-stats \\\n",
    "  --o-stats deblur-single-end-denoised-stats.qza"
   ]
  },
  {
   "cell_type": "code",
   "execution_count": null,
   "metadata": {},
   "outputs": [],
   "source": [
    "# summarize stats from deblur processing\n",
    "qiime metadata tabulate \\\n",
    "  --m-input-file deblur-single-end-qfilter-stats.qza \\\n",
    "  --o-visualization deblur-single-end-qfilter-stats.qzv\n",
    "qiime deblur visualize-stats \\\n",
    "  --i-deblur-stats deblur-single-end-denoised-stats.qza \\\n",
    "  --o-visualization deblur-single-end-denoised-stats.qzv"
   ]
  },
  {
   "cell_type": "code",
   "execution_count": null,
   "metadata": {},
   "outputs": [],
   "source": [
    "# summarized denoised sequence variants\n",
    "qiime feature-table summarize \\\n",
    "  --i-table single-end-table-deblur.qza \\\n",
    "  --o-visualization single-end-table-deblur.qzv \\\n",
    "  --m-sample-metadata-file N2_16S_mapping_file_singleend.txt\n",
    "qiime feature-table tabulate-seqs \\\n",
    "  --i-data single-end-rep-seqs-deblur.qza \\\n",
    "  --o-visualization single-end-rep-seqs-deblur.qzv"
   ]
  },
  {
   "cell_type": "code",
   "execution_count": null,
   "metadata": {},
   "outputs": [],
   "source": [
    "# rename - This one I didn't run since I wanted to use the open clustering for now\n",
    "# mv single-end-rep-seqs-deblur.qza rep-seqs.qza\n",
    "# mv single-end-table-deblur.qza table.qza"
   ]
  },
  {
   "cell_type": "markdown",
   "metadata": {},
   "source": [
    "### Part 4: Create a phylogenetic tree to be used in downstream diversity steps\n",
    "***This step will take input from the Denoising steps above (either Deblur or vsearch clustering)***"
   ]
  },
  {
   "cell_type": "code",
   "execution_count": null,
   "metadata": {},
   "outputs": [],
   "source": [
    "# Option A: (default) inferring phylogeny using an reference based fragment insertion approach\n",
    "# download both files (greengenes and silva) from https://docs.qiime2.org/2020.11/data-resources/#sepp-reference-databases\n",
    "# sepp-refs-silva-128.qza or sepp-refs-gg-13-8.qza\n",
    "\n",
    "qiime fragment-insertion sepp \\\n",
    "  --i-representative-sequences rep-seqs.qza \\\n",
    "  --i-reference-database sepp-refs-silva-128.qza \\\n",
    "  --o-tree insertion-tree.qza \\\n",
    "  --p-threads 2 \\\n",
    "  --o-placements insertion-placements.qza"
   ]
  },
  {
   "cell_type": "code",
   "execution_count": null,
   "metadata": {},
   "outputs": [],
   "source": [
    "# Option B: denovo phylogenetic tree  - tested with closed reference\n",
    "qiime phylogeny align-to-tree-mafft-fasttree \\\n",
    "  --i-sequences rep-seqs.qza \\\n",
    "  --o-alignment aligned-rep-seqs.qza \\\n",
    "  --o-masked-alignment masked-aligned-rep-seqs.qza \\\n",
    "  --o-tree unrooted-tree.qza \\\n",
    "  --o-rooted-tree rooted-tree.qza"
   ]
  },
  {
   "cell_type": "markdown",
   "metadata": {},
   "source": [
    "### Part 5: Alpha and Beta Diversity - This is similar as the Downstream Analysis pipeline except that it uses the phylogenetic tree"
   ]
  },
  {
   "cell_type": "markdown",
   "metadata": {},
   "source": [
    "##### Use the sampling depth function as in here https://github.niaid.nih.gov/bcbb/nephele2/blob/next_release/pipelines/DS_analysis_16S/Qiime_2.0_Core_Diversity.md \n",
    "\n",
    "##### For the metadata, only a sample ID column is required.  Columns are inferred as numerical or categorical but optionally we could add a line to indicate column type. \n",
    "https://docs.google.com/spreadsheets/d/1hBo_NWijLILEFYJrYs7R_Bwc7i_n3ZmPKUQetpVk-pk/edit#gid=0"
   ]
  },
  {
   "cell_type": "code",
   "execution_count": null,
   "metadata": {},
   "outputs": [],
   "source": [
    "# core metrics using phylogeny - similar to what is available in the downstream analysis pipeline.  \n",
    "rm -rf core-metrics-results_5k_insertion\n",
    "qiime diversity core-metrics-phylogenetic \\\n",
    "  --i-phylogeny insertion-tree.qza \\\n",
    "  --i-table table.qza \\\n",
    "  --p-sampling-depth 5000 \\\n",
    "  --m-metadata-file N2_16S_mapping_file.txt \\\n",
    "  --output-dir core-metrics-results_5k_insertion"
   ]
  },
  {
   "cell_type": "code",
   "execution_count": null,
   "metadata": {
    "scrolled": true
   },
   "outputs": [],
   "source": [
    "# core metrics using phylogeny - similar to what is available in the downstream analysis pipeline.  \n",
    "rm -rf core-metrics-results_5k\n",
    "qiime diversity core-metrics-phylogenetic \\\n",
    "  --i-phylogeny rooted-tree.qza \\\n",
    "  --i-table table.qza \\\n",
    "  --p-sampling-depth 5000 \\\n",
    "  --m-metadata-file N2_16S_mapping_file.txt \\\n",
    "  --output-dir core-metrics-results_5k"
   ]
  },
  {
   "cell_type": "code",
   "execution_count": null,
   "metadata": {},
   "outputs": [],
   "source": [
    "# alpha diversity group significance\n",
    "qiime diversity alpha-group-significance \\\n",
    "  --i-alpha-diversity core-metrics-results_5k/faith_pd_vector.qza \\\n",
    "  --m-metadata-file N2_16S_mapping_file.txt \\\n",
    "  --o-visualization core-metrics-results_5k/faith-pd-group-significance.qzv\n",
    "\n",
    "qiime diversity alpha-group-significance \\\n",
    "  --i-alpha-diversity core-metrics-results_5k/evenness_vector.qza \\\n",
    "  --m-metadata-file N2_16S_mapping_file.txt \\\n",
    "  --o-visualization core-metrics-results_5k/evenness-group-significance.qzv"
   ]
  },
  {
   "cell_type": "markdown",
   "metadata": {},
   "source": [
    "### Part 6: Alpha rarefaction"
   ]
  },
  {
   "cell_type": "code",
   "execution_count": null,
   "metadata": {},
   "outputs": [],
   "source": [
    "qiime diversity alpha-rarefaction \\\n",
    "  --i-table table.qza \\\n",
    "  --i-phylogeny rooted-tree.qza \\\n",
    "  --p-max-depth 10000 \\\n",
    "  --m-metadata-file N2_16S_mapping_file.txt \\\n",
    "  --o-visualization alpha-rarefaction.qzv"
   ]
  },
  {
   "cell_type": "markdown",
   "metadata": {},
   "source": [
    "### Part 7: Taxonomy classification"
   ]
  },
  {
   "cell_type": "code",
   "execution_count": null,
   "metadata": {},
   "outputs": [],
   "source": [
    "# get the classifiers (Silva and Greengenes) - These are the ones trained only to the V4 region.\n",
    "#Naive Bayes classifiers trained on:\n",
    "#Silva 138 99% OTUs full-length sequences (MD5: fddefff8bfa2bbfa08b9cad36bcdf709)\n",
    "#Silva 138 99% OTUs from 515F/806R region of sequences (MD5: 28105eb0f1256bf38b9bb310c701dc4e)\n",
    "#Greengenes 13_8 99% OTUs full-length sequences (MD5: 03078d15b265f3d2d73ce97661e370b1)\n",
    "#Greengenes 13_8 99% OTUs from 515F/806R region of sequences (MD5: 682be39339ef36a622b363b8ee2ff88b)\n",
    "# we could make additional classifiers for other 16S regions or the entire 16S\n",
    "\n",
    "# classifier for full 16S using OTUs 99%\n",
    "# wget https://data.qiime2.org/2020.11/common/silva-138-99-nb-classifier.qza\n",
    "# wget https://data.qiime2.org/2020.11/common/gg-13-8-99-nb-classifier.qza\n",
    "\n",
    "# classifier for V4 region using OTUs 99%\n",
    "#wget https://data.qiime2.org/2020.11/common/gg-13-8-99-515-806-nb-classifier.qza\n",
    "#wget https://data.qiime2.org/2020.11/common/silva-138-99-515-806-nb-classifier.qza\n",
    "\n",
    "# (optional) - make a classifier by following https://docs.qiime2.org/2020.11/tutorials/feature-classifier/ "
   ]
  },
  {
   "cell_type": "code",
   "execution_count": null,
   "metadata": {},
   "outputs": [],
   "source": [
    "# First allow user to select option to classify (sklearn or vsearch), then allow selection of classifier (silva or greengenes).\n",
    "# The reads-per-batch allow for faster processing"
   ]
  },
  {
   "cell_type": "code",
   "execution_count": null,
   "metadata": {},
   "outputs": [],
   "source": [
    "# classify below (tested on biowulf interactive session as: sinteractive --mem=20g --cpus-per-task=4)"
   ]
  },
  {
   "cell_type": "markdown",
   "metadata": {},
   "source": [
    "##### Part 7a: Classify method sklearn"
   ]
  },
  {
   "cell_type": "code",
   "execution_count": null,
   "metadata": {},
   "outputs": [],
   "source": [
    "# Select to classify with (slow: full length or faster: only for V4 region)\n",
    "# option 1: SILVA V4 region\n",
    "qiime feature-classifier classify-sklearn \\\n",
    "  --i-reads rep-seqs.qza \\\n",
    "  --i-classifier silva-138-99-515-806-nb-classifier.qza \\\n",
    "  --o-classification taxonomy.qza \\\n",
    "  --p-reads-per-batch 100\n",
    "\n",
    "# option 2: Greengenes V4 region\n",
    "qiime feature-classifier classify-sklearn \\\n",
    "  --i-reads rep-seqs.qza \\\n",
    "  --i-classifier gg-13-8-99-515-806-nb-classifier.qza \\\n",
    "  --o-classification taxonomy.qza \\\n",
    "  --p-reads-per-batch 100\n",
    "\n",
    "# option 3: SILVA full length\n",
    "qiime feature-classifier classify-sklearn \\\n",
    "  --i-reads rep-seqs.qza \\\n",
    "  --i-classifier silva-138-99-nb-classifier.qza \\\n",
    "  --o-classification taxonomy.qza \\\n",
    "  --p-reads-per-batch 100\n",
    "\n",
    "# option 4: Greengenes full length\n",
    "qiime feature-classifier classify-sklearn \\\n",
    "  --i-reads rep-seqs.qza \\\n",
    "  --i-classifier gg-13-8-99-nb-classifier.qza \\\n",
    "  --o-classification taxonomy.qza \\\n",
    "  --p-reads-per-batch 100"
   ]
  },
  {
   "cell_type": "markdown",
   "metadata": {},
   "source": [
    "##### Part 7b:Classify method vsearch"
   ]
  },
  {
   "cell_type": "code",
   "execution_count": null,
   "metadata": {},
   "outputs": [],
   "source": [
    "# two options (silva and greengenes)\n",
    "\n",
    "qiime feature-classifier classify-consensus-vsearch \\\n",
    "  --i-query rep-seqs.qza \\\n",
    "  --i-reference-reads silva-138-99-seqs.qza \\\n",
    "  --i-reference-taxonomy silva-138-99-tax.qza \\\n",
    "  --o-classification taxonomy.qza"
   ]
  },
  {
   "cell_type": "code",
   "execution_count": null,
   "metadata": {},
   "outputs": [],
   "source": [
    "# view taxonomy assignments\n",
    "qiime metadata tabulate \\\n",
    "  --m-input-file taxonom.qza \\\n",
    "  --o-visualization taxonomy.qzv"
   ]
  },
  {
   "cell_type": "markdown",
   "metadata": {},
   "source": [
    "### Part 8:Make Barplots"
   ]
  },
  {
   "cell_type": "code",
   "execution_count": null,
   "metadata": {},
   "outputs": [],
   "source": [
    "# make table of rep sequences\n",
    "qiime feature-table tabulate-seqs \\\n",
    "  --i-data rep-seqs.qza \\\n",
    "  --o-visualization rep_set.qzv"
   ]
  },
  {
   "cell_type": "code",
   "execution_count": null,
   "metadata": {},
   "outputs": [],
   "source": [
    "# start by filtering or subsample the table to 2000 for example\n",
    "qiime feature-table filter-samples \\\n",
    "  --i-table table.qza \\\n",
    "  --p-min-frequency 2000 \\\n",
    "  --o-filtered-table table_2k.qza"
   ]
  },
  {
   "cell_type": "code",
   "execution_count": null,
   "metadata": {},
   "outputs": [],
   "source": [
    "# make barplot\n",
    "qiime taxa barplot \\\n",
    "  --i-table table_2k.qza \\\n",
    "  --i-taxonomy taxonomy.qza \\\n",
    "  --m-metadata-file N2_16S_mapping_file.txt \\\n",
    "  --o-visualization taxa_barplot.qzv"
   ]
  },
  {
   "cell_type": "markdown",
   "metadata": {},
   "source": [
    "___________"
   ]
  },
  {
   "cell_type": "markdown",
   "metadata": {},
   "source": [
    "#### Part 9: Optional analyses - Let's not worry about this yet\n",
    "***(I wonder if these can be done here or in the downstream analysis pipeline).  It will need metadata file columns headers to be presented to the user for the user to select from.  For each of the metadata colums, the beta-group-significance function will be run.***"
   ]
  },
  {
   "cell_type": "code",
   "execution_count": null,
   "metadata": {},
   "outputs": [],
   "source": [
    "# beta group significance - This will be an optional step\n",
    "qiime diversity beta-group-significance \\\n",
    "  --i-distance-matrix core-metrics-results_5k/unweighted_unifrac_distance_matrix.qza \\\n",
    "  --m-metadata-file N2_16S_mapping_file.txt \\\n",
    "  --m-metadata-column Antibiotic \\\n",
    "  --o-visualization core-metrics-results_5k/unweighted-unifrac-Antibiotic-significance.qzv \\\n",
    "  --p-pairwise"
   ]
  },
  {
   "cell_type": "code",
   "execution_count": null,
   "metadata": {},
   "outputs": [],
   "source": [
    "# permanova for exploring large differences between groups even with large within group variances\n",
    "qiime diversity beta-group-significance \\\n",
    "  --i-distance-matrix core-metrics-results_5k/unweighted_unifrac_distance_matrix.qza \\\n",
    "  --m-metadata-file N2_16S_mapping_file.txt \\\n",
    "  --m-metadata-column Antibiotic \\\n",
    "  --o-visualization core-metrics-results_5k/unweighted-unifrac-Antibiotic-significance_disp.qzv \\\n",
    "  --p-method permdisp"
   ]
  },
  {
   "cell_type": "code",
   "execution_count": null,
   "metadata": {},
   "outputs": [],
   "source": [
    "# adonis\n",
    "qiime diversity adonis \\\n",
    "  --i-distance-matrix core-metrics-results_5k/unweighted_unifrac_distance_matrix.qza \\\n",
    "  --m-metadata-file N2_16S_mapping_file.txt \\\n",
    "  --o-visualization core-metrics-results_5k/unweighted_Antibiotic+Animal_adonis.qzv \\\n",
    "  --p-formula Antibiotic+Animal"
   ]
  },
  {
   "cell_type": "code",
   "execution_count": null,
   "metadata": {},
   "outputs": [],
   "source": [
    "#Other analyses that can be added:\n",
    "#1) To determine if the continuous sample metadata is correlated with sample composition, an association test can be run using:\n",
    "#qiime metadata distance-matrix in combination with qiime diversity mantel and qiime diversity bioenv commands.\n",
    "#2) differential abundance"
   ]
  },
  {
   "cell_type": "code",
   "execution_count": null,
   "metadata": {},
   "outputs": [],
   "source": [
    "# create stats and summary of rep-seqs data from denovo clustering\n",
    "qiime feature-table tabulate-seqs \\\n",
    "--i-data rep-seqs-dn-99.qza \\\n",
    "--o-visualization rep-seqs-dn-99.qzv"
   ]
  }
 ],
 "metadata": {
  "kernelspec": {
   "display_name": "Bash",
   "language": "bash",
   "name": "bash"
  },
  "language_info": {
   "codemirror_mode": "shell",
   "file_extension": ".sh",
   "mimetype": "text/x-sh",
   "name": "bash"
  }
 },
 "nbformat": 4,
 "nbformat_minor": 4
}
